{
 "cells": [
  {
   "cell_type": "markdown",
   "id": "60a952d6-a410-4720-9ce5-394e8c91557c",
   "metadata": {},
   "source": [
    "# Intro\n",
    "\n",
    "This notebook introduces some of the basics of Julia, including necessary syntax, multiple dispatch, some common applications, plotting, and benchmarking.\n",
    "It is not a comprehensive introduction to the language, but hopes to be a decent reference for \"hope do I do [that thing] again?\"\n",
    "In this notebook we'll use a few libraries, but the needed install commands are included:\n",
    "`PyPlot.jl`, `DataFrame.jl`, .."
   ]
  },
  {
   "cell_type": "markdown",
   "id": "36d42e9f-99cf-415c-b994-0a34612ba867",
   "metadata": {},
   "source": [
    "# Syntax Basics\n",
    "\n",
    "Here we'll cover some of the basic Julia syntax for doing things like conditionals, loops, and functions."
   ]
  },
  {
   "cell_type": "code",
   "execution_count": null,
   "id": "680e9f18-8a42-4b57-913e-cd1675377974",
   "metadata": {},
   "outputs": [],
   "source": [
    "# Comments like python\n",
    "# If statements\n",
    "\n",
    "# Notice: dynamic typing\n",
    "x = 1\n",
    "y = 2\n",
    "\n",
    "if ( x > y )\n",
    "    println(\"x > y\") # println is print with an added new line\n",
    "elseif x == y  # These () are not needed \n",
    "println( \"x = y\" ) # Indentation is not necessary\n",
    "else\n",
    "    println(\"x < y\")\n",
    "end"
   ]
  },
  {
   "cell_type": "code",
   "execution_count": null,
   "id": "b62224ed-c714-4cfa-b795-9d59fcaf6ee1",
   "metadata": {},
   "outputs": [],
   "source": [
    "# There is also a short form, ternary operator\n",
    "# if x > y then x else y\n",
    "(x > y) ? x : y"
   ]
  },
  {
   "cell_type": "code",
   "execution_count": null,
   "id": "6f29f951-6b5a-459a-92fb-47226f8ccaa9",
   "metadata": {},
   "outputs": [],
   "source": [
    "# For loops!\n",
    "# Note that unlike, Python, in Julia for loops are FAST. There is no reason to avoid them, at all.\n",
    "\n",
    "# sum even numbers between 1 and 100 (inclusive)\n",
    "s = 0.0\n",
    "for i in 1:100 # this is inclusive, unlike Python\n",
    "    if (i % 2 == 0)\n",
    "        s += i\n",
    "    end\n",
    "end\n",
    "s"
   ]
  },
  {
   "cell_type": "code",
   "execution_count": null,
   "id": "47b0e426-6784-49ac-bcc6-64bdaa1b5b7c",
   "metadata": {},
   "outputs": [],
   "source": [
    "# While loop, same example\n",
    "\n",
    "s = 0.0\n",
    "i = 1\n",
    "while ( i <= 100 ) # As expected\n",
    "    if (i % 2 == 0)\n",
    "        s += i\n",
    "    end\n",
    "    i += 1\n",
    "end\n",
    "s"
   ]
  },
  {
   "cell_type": "code",
   "execution_count": null,
   "id": "6c394420-9a92-44ce-bde1-54710368f441",
   "metadata": {},
   "outputs": [],
   "source": [
    "# Let's turn the previous stuff into a function!\n",
    "\n",
    "\"\"\"\n",
    "Julia docstring.\n",
    "This functions sums evens in [start, stop]\n",
    "\"\"\"\n",
    "function SumEvens( start, stop )\n",
    "    s = 0.0\n",
    "    for i in start:stop\n",
    "        if (i % 2 == 0)\n",
    "            s += i\n",
    "        end\n",
    "    end\n",
    "    return s \n",
    "    # Note: you don't need a return statement. \n",
    "    # The default \"return\" is the last accessed variable. Having a return is good form, though.\n",
    "end"
   ]
  },
  {
   "cell_type": "code",
   "execution_count": null,
   "id": "87d1a314-9e3d-4744-9184-d38771f5eebd",
   "metadata": {},
   "outputs": [],
   "source": [
    "SumEvens( 1, 100 ) # nice"
   ]
  },
  {
   "cell_type": "code",
   "execution_count": null,
   "id": "ea307db6-673f-447d-8c60-bb0c3ca24a6f",
   "metadata": {},
   "outputs": [],
   "source": [
    "?SumEvens"
   ]
  },
  {
   "cell_type": "code",
   "execution_count": null,
   "id": "60e8acb8-111a-41a7-aa9a-9776be5b6700",
   "metadata": {},
   "outputs": [],
   "source": [
    "# A note on strings: you must use double quotes \"\"\n",
    "# Single quotes are for characters, only.\n",
    "\n",
    "my_string = \"This is a string\"\n",
    "my_char = 'c'"
   ]
  },
  {
   "cell_type": "markdown",
   "id": "77735f2b-e71b-4d4d-8c7f-098167a6af40",
   "metadata": {},
   "source": [
    "Booleans use lowercase"
   ]
  },
  {
   "cell_type": "code",
   "execution_count": null,
   "id": "bb913ca5-28be-43c3-ba13-ecd364905f3e",
   "metadata": {},
   "outputs": [],
   "source": [
    "flag = true"
   ]
  },
  {
   "cell_type": "markdown",
   "id": "ef1c2ef3-984b-4ab9-a3c8-0864a0f8f53f",
   "metadata": {},
   "source": [
    "Julia is less forgiving with array operations than Python"
   ]
  },
  {
   "cell_type": "code",
   "execution_count": null,
   "id": "28b686fb-d3e1-4caf-85a0-0422d98f9590",
   "metadata": {},
   "outputs": [],
   "source": [
    "array1 = [ 1.0, 2.0, 3.0 ]\n",
    "array2 = [ 30.0, 40.0, 50.0 ]\n",
    "\n",
    "# array1 * array2\n",
    "array1 .* array2 # .* is an example of elementwise operations. Can do this with most operators, and with functions.\n",
    "SumEvens.(array1, array2) # the output is an array (SumEvens(array1[1], array2[1]), ...)\n",
    "\n",
    "# A note: It is possible that broadcasting operations like this may be slower than a for loop."
   ]
  },
  {
   "cell_type": "markdown",
   "id": "90df67e9-3509-4ebb-b7e8-1124a7bd8cd2",
   "metadata": {},
   "source": [
    "Arrays in Julia can be resized using `push!(array, newval)`. The `!` at the end of the function name is Julia notation indicating that this function modifys the input argument (here, by appending `newval` to the end)."
   ]
  },
  {
   "cell_type": "code",
   "execution_count": null,
   "id": "6f55dd23-44a8-4717-8f66-347db9661560",
   "metadata": {},
   "outputs": [],
   "source": [
    "array = [] # empty array\n",
    "for i in 1:10\n",
    "    push!(array, i)\n",
    "end\n",
    "\n",
    "println(array)"
   ]
  },
  {
   "cell_type": "code",
   "execution_count": null,
   "id": "f0aa0721-3ba7-48ec-b6d8-f8e550a7f4b8",
   "metadata": {},
   "outputs": [],
   "source": [
    "# similarly, pop! removes the last item\n",
    "for i in 1:5\n",
    "    pop!(array)\n",
    "end"
   ]
  },
  {
   "cell_type": "code",
   "execution_count": null,
   "id": "01b880bf-f788-4a9d-bfa7-ff0ed0345211",
   "metadata": {},
   "outputs": [],
   "source": [
    "println(array)"
   ]
  },
  {
   "cell_type": "markdown",
   "id": "5c48adb6-e503-4528-a40b-f486700b7899",
   "metadata": {},
   "source": [
    "# Static Typing and Multiple Dispatch\n",
    "\n",
    "In all of the previous examples we made use of dynamic typing -- we never told Julia what types variables would take, even for our functions.\n",
    "For functions, Julia has the ability to implement static typing, allowing us (and the compiler) to get some extra mileage. \n",
    "Let's dig into this.\n",
    "\n",
    "Let's consider a function that creates an array of input size `n` of random values between `a` and `b`."
   ]
  },
  {
   "cell_type": "code",
   "execution_count": null,
   "id": "66de0be8-9fc8-4558-a28b-63f9569c5d56",
   "metadata": {},
   "outputs": [],
   "source": [
    "\"\"\"\n",
    "Dynamic typing.\n",
    "Notice we can set default argument values just like in Python\n",
    "\"\"\"\n",
    "function SumRands( n, a=0.0, b=1.0 )\n",
    "    array = rand( n ) # array of n rands. \n",
    "    \n",
    "    # rand gives between 0 and 1. map to between a and b,\n",
    "    # @inbounds is a macro to disable array bounds checking. Faster\n",
    "    @inbounds for i in 1:n\n",
    "       array[i] = array[i] %((b - a) + 1.0) + a\n",
    "    end\n",
    "    # Here we could do array .% ((b - a) + 1.0) + a, but the .% is slower\n",
    "    \n",
    "    s = 0.0\n",
    "    @inbounds for i in 1:n\n",
    "        s += array[i]\n",
    "        # @inbounds is a macro to disable bounds checking. Can be faster\n",
    "    end\n",
    "    \n",
    "    return s\n",
    "end"
   ]
  },
  {
   "cell_type": "code",
   "execution_count": null,
   "id": "38315888-c917-4363-8657-689e6dbd5123",
   "metadata": {},
   "outputs": [],
   "source": [
    "SumRands( 10000 ) # Notice we only passed the first arg, the others defaulted."
   ]
  },
  {
   "cell_type": "markdown",
   "id": "d4f909dc-539e-4707-95e4-92a6722aba8e",
   "metadata": {},
   "source": [
    "The above used dynamic typing, but we can be more careful"
   ]
  },
  {
   "cell_type": "code",
   "execution_count": null,
   "id": "a8c1c51a-f2fa-4057-8ee1-f3fbe5247cf2",
   "metadata": {},
   "outputs": [],
   "source": [
    "\"\"\"\n",
    "Static typing\n",
    "\"\"\"\n",
    "function SumRands_Static( n::Int64, a::Int64 = 0, b::Int64 = 1 ) # var::Type\n",
    "    array :: Array{Float64,1} = rand( n ) # array of n rands. Array{Type, Dims}\n",
    "    \n",
    "    # rand gives between 0 and 1. map to between a and b,\n",
    "    for i in 1:n\n",
    "       array[i] = array[i] %((b - a) + 1.0) + a\n",
    "    end\n",
    "    # Here we could do array .% ((b - a) + 1.0) + a, but the .% is slower\n",
    "    \n",
    "    s :: Float64 = 0.0\n",
    "    # @inbounds is a macro to disable bounds checking. Can be faster\n",
    "    @inbounds for i in 1:n\n",
    "        s += array[i]\n",
    "    end\n",
    "    \n",
    "    return s\n",
    "end\n",
    "\n",
    "\"\"\"\n",
    "Static typing\n",
    "\"\"\"\n",
    "function SumRands_Static( n::Int64, a::Float64 = 0.0, b::Float64 = 1.0 ) # var::Type\n",
    "    array :: Array{Float64,1} = rand( n ) # array of n rands. Array{Type, Dims}\n",
    "    \n",
    "    # rand gives between 0 and 1. map to between a and b,\n",
    "    for i in 1:n\n",
    "       array[i] = array[i] %((b - a) + 1.0) + a\n",
    "    end\n",
    "    # Here we could do array .% ((b - a) + 1.0) + a, but the .% is slower\n",
    "    \n",
    "    s :: Float64 = 0.0\n",
    "    @inbounds for i in 1:n\n",
    "        s += array[i]\n",
    "        # @inbounds is a macro to disable bounds checking. Can be faster\n",
    "    end\n",
    "    \n",
    "    return s\n",
    "end"
   ]
  },
  {
   "cell_type": "code",
   "execution_count": null,
   "id": "0a94e98f-916c-4953-ae9f-c1a446fc115e",
   "metadata": {},
   "outputs": [],
   "source": [
    "SumRands_Static(100, 0, 1)"
   ]
  },
  {
   "cell_type": "code",
   "execution_count": null,
   "id": "57022998-f8dc-42ad-80e7-e421fcd01b32",
   "metadata": {},
   "outputs": [],
   "source": [
    "SumRands_Static(100, 0.0, 1.0)"
   ]
  },
  {
   "cell_type": "code",
   "execution_count": null,
   "id": "22e78f1a-a91e-4fe5-a998-1c718682bf4d",
   "metadata": {},
   "outputs": [],
   "source": [
    "SumRands_Static(100, 0, 1.0)"
   ]
  },
  {
   "cell_type": "code",
   "execution_count": null,
   "id": "6347f1f1-723e-40ad-bebf-6eb23c164ecc",
   "metadata": {},
   "outputs": [],
   "source": [
    "methods(SumRands_Static)"
   ]
  },
  {
   "cell_type": "markdown",
   "id": "8ca57824-0510-4ad1-86cf-c3449556a32f",
   "metadata": {},
   "source": [
    "This example was a bit contrived, but you can imagine scenarios where we will want various methods. For example, a `ComputePressure` equation of state call that can take scalar arguments or vector arguments, or different sets of args if its supposed to call a gamma law EoS vs a tabulated one."
   ]
  },
  {
   "cell_type": "markdown",
   "id": "ec272919-d790-40cb-a551-b53010782814",
   "metadata": {},
   "source": [
    "# Some Linear Algebra\n",
    "See [Julia's linear algebra tutorial](https://web.mit.edu/julia_v0.6.2/julia/share/doc/julia/html/en/stdlib/linalg.html) and [documentation/tutorial](https://docs.julialang.org/en/v1/stdlib/LinearAlgebra/).\n",
    "\n",
    "Most of these functions make use of LAPACK"
   ]
  },
  {
   "cell_type": "code",
   "execution_count": null,
   "id": "262dc02c-07a1-4006-9b86-5847fe207f16",
   "metadata": {},
   "outputs": [],
   "source": [
    "using LinearAlgebra\n",
    "include(\"funcs.jl\") # Include a user made file for Hilbert matrices"
   ]
  },
  {
   "cell_type": "code",
   "execution_count": null,
   "id": "f38b704f-c01a-4330-a864-1b4792d4ab3a",
   "metadata": {},
   "outputs": [],
   "source": [
    "A = Hilbert_static( 5 )\n",
    "B = ones( 5, 5 )\n",
    "B += Diagonal( B )\n",
    "b = A * ones(5)\n",
    "C = [1.5 2 -4; 3 -1 -6; -10 2.3 4] # We can define like this too"
   ]
  },
  {
   "cell_type": "code",
   "execution_count": null,
   "id": "55cd8f3f-a3c4-41bf-b5d4-8227ea262c8d",
   "metadata": {},
   "outputs": [],
   "source": [
    "# Some basic operations\n",
    "det(B)"
   ]
  },
  {
   "cell_type": "code",
   "execution_count": null,
   "id": "ebee1810-5695-4270-bacd-22bf9c929ea6",
   "metadata": {},
   "outputs": [],
   "source": [
    "tr(B)"
   ]
  },
  {
   "cell_type": "code",
   "execution_count": null,
   "id": "280713b2-e0b7-4a5e-a36e-4202dfe990a1",
   "metadata": {},
   "outputs": [],
   "source": [
    "inv(B)"
   ]
  },
  {
   "cell_type": "code",
   "execution_count": null,
   "id": "0d9e399e-1500-46b9-9b8e-6a32ec070960",
   "metadata": {},
   "outputs": [],
   "source": [
    "# Julia has a built in identity operator I. No need to define our own!\n",
    "B * I - B"
   ]
  },
  {
   "cell_type": "code",
   "execution_count": null,
   "id": "be57738e-4a9d-41d3-b49b-59fbf400c6f1",
   "metadata": {},
   "outputs": [],
   "source": [
    "w,v = eigen(B) # can also use eigvals(B), eigvecs(B)"
   ]
  },
  {
   "cell_type": "code",
   "execution_count": null,
   "id": "b5f6ac3c-ad9c-414e-8418-a0861e0b3f95",
   "metadata": {},
   "outputs": [],
   "source": [
    "# Ex: Test how the condition number degrades as the size of the Hilbert matrix increases\n"
   ]
  },
  {
   "cell_type": "markdown",
   "id": "dabc33c5-9ec5-430d-9f8c-825a6883cfe9",
   "metadata": {},
   "source": [
    "Let's solve Ax = b. First up is to factorize A. we can use `factorize()` to do this -- it selects the appropriate choice (LU, Cholesky, etc). [Documentation](https://docs.julialang.org/en/v1/stdlib/LinearAlgebra/#LinearAlgebra.factorize)"
   ]
  },
  {
   "cell_type": "code",
   "execution_count": null,
   "id": "caac2fe5-4f67-444a-8de7-f0df3c7eb10e",
   "metadata": {},
   "outputs": [],
   "source": [
    "factorize(A) # It does Cholesky! Note that it returns a \"factorization object\"\n",
    "\n",
    "# Aside: If you are trying to be memory efficient, try cholesky!(A). Functions that end in \"!\"\n",
    "# overwrite the inputs - many common functions have these forms available."
   ]
  },
  {
   "cell_type": "code",
   "execution_count": null,
   "id": "8153cc02-1560-4943-892d-c3926eeb2527",
   "metadata": {},
   "outputs": [],
   "source": [
    "U = factorize(A);"
   ]
  },
  {
   "cell_type": "markdown",
   "id": "b4ce4f05-f71b-469e-ba40-c0072739537e",
   "metadata": {},
   "source": [
    "To solve linear systems in Julia, we use the `\\` operator (see also [ldiv](https://docs.julialang.org/en/v1/stdlib/LinearAlgebra/#LinearAlgebra.ldiv!)). This is a \"polyalgorithm\" that, like factorize, will choose the ideal solver based on the inputs, such as forward substitution."
   ]
  },
  {
   "cell_type": "code",
   "execution_count": null,
   "id": "046e3fb3-f333-4e76-867a-d696b8a1a060",
   "metadata": {},
   "outputs": [],
   "source": [
    "x = U\\b"
   ]
  },
  {
   "cell_type": "code",
   "execution_count": null,
   "id": "04b4144a-251d-4667-8f3b-4fa035e55557",
   "metadata": {},
   "outputs": [],
   "source": []
  },
  {
   "cell_type": "markdown",
   "id": "051c141a-25da-47d8-bf15-4701afadc7ed",
   "metadata": {},
   "source": [
    "# Real Data, Plotting, etc\n",
    "\n",
    "Let's load and plot some real data. We'll use a progenitor model from [Sukhbold et al. (2016)](https://ui.adsabs.harvard.edu/abs/2016ApJ...821...38S/abstract). The data are included here and available [online](http://doi.org/10.17617/1.b).\n",
    "\n",
    "We use [DelimitedFiles: readdlm](https://docs.julialang.org/en/v1/stdlib/DelimitedFiles/) here for reading the input. It works well, but doesn't unpack for you as far as I can tell.\n",
    "The external package [CSV.jl](https://csv.juliadata.org/stable/) has more functionality, including reading into DataFrames, and may be worth looking into."
   ]
  },
  {
   "cell_type": "code",
   "execution_count": null,
   "id": "ca7e371c-c30e-4db3-942c-280026263563",
   "metadata": {},
   "outputs": [],
   "source": [
    "using DelimitedFiles\n",
    "fn = \"./s9.0_presn.FLASH\" "
   ]
  },
  {
   "cell_type": "code",
   "execution_count": null,
   "id": "ff267de1-a485-471c-933c-5fabc75e2dd1",
   "metadata": {},
   "outputs": [],
   "source": [
    "data = readdlm(fn, skipstart=30, header=false)\n",
    "# radius mass dens temp pres velx velz ye neut H1 He3 He4 C12 N14\n",
    "# O16 Ne20 Mg24 Si28 S32 Ar36 Ca40 Ti44 Cr48 Cr56 Fe52 Fe54 Ni56 Fe56"
   ]
  },
  {
   "cell_type": "markdown",
   "id": "797d27d9-cc4e-4d04-a312-400c5270c403",
   "metadata": {},
   "source": [
    "If you want, we can load this into a nicer data structure using [DataFrames.jl](https://dataframes.juliadata.org/stable/)"
   ]
  },
  {
   "cell_type": "code",
   "execution_count": null,
   "id": "f34327ef-fbf4-483c-8707-fec417ccc2c4",
   "metadata": {},
   "outputs": [],
   "source": [
    "# using Pkg; Pkg.add(\"DataFrames\")\n",
    "using DataFrames\n",
    "keys = [ \"radius\", \"mass\", \"dens\", \"temp\", \"pres\", \"velx\", \"velz\", \"ye\", \"neut\", \"H1\", \"He3\", \"He4\", \"C12\", \"N14\",\n",
    "\"O16\", \"Ne20\", \"Mg24\", \"Si28\", \"S32\", \"Ar36\", \"Ca40\", \"Ti44\", \"Cr48\", \"Cr56\", \"Fe52\", \"Fe54\", \"Ni56\", \"Fe56\" ];\n",
    "\n",
    "df = DataFrame()\n",
    "for i in 1:length(data[1,:])\n",
    "    df[!,keys[i]] = data[:,i] # Syntax a bit odd.. may be a nicer way\n",
    "end"
   ]
  },
  {
   "cell_type": "code",
   "execution_count": null,
   "id": "950134cc-0d78-4389-b815-26769a97177a",
   "metadata": {},
   "outputs": [],
   "source": [
    "df.radius; # or df[!,\"radius\"]\n",
    "names(df); # to access cols"
   ]
  },
  {
   "cell_type": "markdown",
   "id": "4a5c73ca-3ced-432e-a531-e8e0025fdcdc",
   "metadata": {},
   "source": [
    "We can also make a user defined type to hold this data. There's lots that can be done with structs to emulate some of the features of object oriented programming."
   ]
  },
  {
   "cell_type": "code",
   "execution_count": null,
   "id": "ba2c8bee-c5be-4ffc-acab-dfa23e37fdb3",
   "metadata": {},
   "outputs": [],
   "source": [
    "struct Progenitor\n",
    "    radius  :: Vector{Float64}\n",
    "    density :: Vector{Float64}\n",
    "end\n",
    "s9 = Progenitor(df.radius, df.dens);\n",
    "s9.density;"
   ]
  },
  {
   "cell_type": "markdown",
   "id": "6b3067d5-e34b-4478-9699-a170c9fcfccd",
   "metadata": {},
   "source": [
    "Let's plot! We'll start with Julia's [default](https://docs.juliaplots.org/latest/) plotting tools. They are quite extensive, look nice, and have a variety of [themes](https://docs.juliaplots.org/latest/generated/plotthemes/) and [backends](https://docs.juliaplots.org/latest/backends/) available to create plots similar to other tools (e.g., ggplot)."
   ]
  },
  {
   "cell_type": "code",
   "execution_count": null,
   "id": "51c94d99-67b7-476c-973c-827e0d9e3289",
   "metadata": {},
   "outputs": [],
   "source": [
    "# using Pkg; Pkg.add(\"Plots\")\n",
    "using Plots\n",
    "\n",
    "plot(df.radius, df.dens, xaxis=:log, yaxis=:log, xlabel=\"Radius [cm]\", ylabel=\"Density [g/cc]\")"
   ]
  },
  {
   "cell_type": "code",
   "execution_count": null,
   "id": "d0424d99-9990-438d-b082-6fb34b6a2e5b",
   "metadata": {},
   "outputs": [],
   "source": [
    "## Can make lots of cool things!\n",
    "# Example from https://docs.juliaplots.org/latest/\n",
    "\n",
    "default(legend = false)\n",
    "x = y = range(-5, 5, length = 40)\n",
    "zs = zeros(0, 40)\n",
    "n = 100\n",
    "\n",
    "@gif for i in range(0, stop = 2π, length = n)\n",
    "    f(x, y) = sin(x + 10sin(i)) + cos(y)\n",
    "\n",
    "    # create a plot with 3 subplots and a custom layout\n",
    "    l = @layout [a{0.7w} b; c{0.2h}]\n",
    "    p = plot(x, y, f, st = [:surface, :contourf], layout = l)\n",
    "\n",
    "    # induce a slight oscillating camera angle sweep, in degrees (azimuth, altitude)\n",
    "    plot!(p[1], camera = (10 * (1 + cos(i)), 40))\n",
    "\n",
    "    # add a tracking line\n",
    "    fixed_x = zeros(40)\n",
    "    z = map(f, fixed_x, y)\n",
    "    plot!(p[1], fixed_x, y, z, line = (:black, 5, 0.2))\n",
    "    vline!(p[2], [0], line = (:black, 5))\n",
    "\n",
    "    # add to and show the tracked values over time\n",
    "    global zs = vcat(zs, z')\n",
    "    plot!(p[3], zs, alpha = 0.2, palette = cgrad(:blues).colors)\n",
    "end"
   ]
  },
  {
   "cell_type": "markdown",
   "id": "e50d5bfa-9c0f-47d1-b752-298feedf0541",
   "metadata": {},
   "source": [
    "These tools are nice but the controls leave a little bit to be desired for producing publication quality figures. Lucky for us, [PyPlot.jl](https://github.com/JuliaPy/PyPlot.jl) is a wrapper around matplotlib to give us all of our familiar tools."
   ]
  },
  {
   "cell_type": "code",
   "execution_count": null,
   "id": "dc1289ea-7a5b-4dd8-bd89-efbf93cc42bc",
   "metadata": {},
   "outputs": [],
   "source": [
    "# using Pkg; Pkg.add(\"PyPlot\")\n",
    "using PyPlot # Note that we shouldn't have both Plots and PyPlots loaded. "
   ]
  },
  {
   "cell_type": "code",
   "execution_count": null,
   "id": "be252921-3f9e-4aba-8bb9-d503c56c7306",
   "metadata": {},
   "outputs": [],
   "source": [
    "fig, ax = subplots( 1, 2)\n",
    "\n",
    "ax[1].loglog(df.radius, df.dens, label=\"label\")\n",
    "ax[2].semilogx(df.radius, df.H1)\n",
    "\n",
    "ax[1].set(ylabel=L\"Density [g cm$^{-3}$]\", xlabel = \"Radius [cm]\")\n",
    "ax[2].set(ylabel=\"H Mass Frac\", xlabel = \"Radius [cm]\")\n",
    "ax[1].legend(frameon=true)"
   ]
  },
  {
   "cell_type": "markdown",
   "id": "befceacd-e9ef-4b01-a989-01c4f818e24f",
   "metadata": {},
   "source": [
    "Some notes: There is no `plt.` here. Indexing ax objects starts with 1. Setting things like `marker=\"o\"` _must_ use double quotes -- they're strings, not chars. In Python to get LaTeX string formatting we use `r\"\"`. Here, we use `L\"\"`.\n",
    "\n",
    "This is my preferred way to creating plots in Julia for now. Julia's default plotting has added a lot of new features since I started and is developing nicely, matplotlib is just much older and more developed for the time being."
   ]
  },
  {
   "cell_type": "markdown",
   "id": "6ef340a9-689c-49e5-8ee9-f7fced802154",
   "metadata": {},
   "source": [
    "# Using Python Libraries / Functions\n",
    "\n",
    "The great thing baout Python is its huge set of available libraries.\n",
    "One that we often use is [yt](https://yt-project.org/). Lucky for us, Julia provides a way to (nearly) seamlessly incorporate such tools into our workflow through [PyCall.jl](https://juliapackages.com/p/pycall). We'll use this to examine some `enzo` data with `yt`. These data come from the [yt quickstart guide](https://yt-project.org/doc/quickstart/index.html).\n",
    "\n",
    "There are two options for using PyCall -- we can use our own Python/Conda installation, or let PyCall manage its own private Conda environment. We'll do the latter here, but I show how to point it to a Python binary on your system.\n",
    "\n",
    "**Note**: I highly recommend pointing Julia to your Python installation. I've had strange bugs appear with `PyCall` that I can't quite diagnose when using the built in manager.\n",
    "```julia\n",
    "using Pkg\n",
    "ENV[\"PYTHON\"] = \"/Users/barker/local/miniconda3/bin/python\" # output of \"which python\"\n",
    "Pkg.build(\"PyCall\")\n",
    "```"
   ]
  },
  {
   "cell_type": "code",
   "execution_count": null,
   "id": "9da8227b-8ab8-4b67-a3cc-9aa633586400",
   "metadata": {},
   "outputs": [],
   "source": [
    "# using Pkg; Pkg.add(\"PyCall\")\n",
    "# using Pkg; Pkg.add(\"Conda\")\n",
    "# using Conda\n",
    "# Conda.add(\"yt\")\n",
    "\n",
    "using PyCall\n",
    "\n",
    "# ==="
   ]
  },
  {
   "cell_type": "code",
   "execution_count": null,
   "id": "36f54833-907a-448d-b59f-3323b7f9097a",
   "metadata": {},
   "outputs": [],
   "source": [
    "yt = pyimport(\"yt\")\n",
    "# np_sum = pyimport(\"numpy\")[\"sum\"] # to load just sum from numpy"
   ]
  },
  {
   "cell_type": "code",
   "execution_count": null,
   "id": "89279f0d-9f0a-45a4-b222-1ba15478e0fd",
   "metadata": {},
   "outputs": [],
   "source": [
    "# We need to get the data -- too big to put in the repo\n",
    "# run(`command`) will execute shell commands\n",
    "run(`curl -sSO https://yt-project.org/data/enzo_tiny_cosmology.tar.gz`)"
   ]
  },
  {
   "cell_type": "code",
   "execution_count": null,
   "id": "38f5e4d4-f614-4b7f-b043-908918de5f4d",
   "metadata": {},
   "outputs": [],
   "source": [
    "run(`tar xzf enzo_tiny_cosmology.tar.gz`)"
   ]
  },
  {
   "cell_type": "code",
   "execution_count": null,
   "id": "937395c4-d741-4cb1-9222-4b21cf20668d",
   "metadata": {},
   "outputs": [],
   "source": [
    "# Now we can do the usual things with yt\n",
    "\n",
    "ds = yt.load(\"enzo_tiny_cosmology/DD0046/DD0046\")\n",
    "println(\"Redshift =\", ds.current_redshift)"
   ]
  },
  {
   "cell_type": "code",
   "execution_count": null,
   "id": "8ba57139-2a93-4737-9011-2dff60ddfbd4",
   "metadata": {},
   "outputs": [],
   "source": [
    "p = yt.ProjectionPlot(ds, \"y\", \"density\")"
   ]
  },
  {
   "cell_type": "markdown",
   "id": "6de42510-f4b3-467e-a0b7-dae6648d9fe2",
   "metadata": {},
   "source": [
    "# Put It All Together\n",
    "\n",
    "Let's create Python and Julia functions to solve a linear system, benchmark them for various system sizes, and plot the timing results."
   ]
  },
  {
   "cell_type": "code",
   "execution_count": null,
   "id": "fb9a50c0-7f02-4a21-b3a8-9a8859dd56a3",
   "metadata": {},
   "outputs": [],
   "source": [
    "# using Pkg; Pkg.add(\"BenchmarkTools\")\n",
    "using BenchmarkTools\n",
    "using PyCall"
   ]
  },
  {
   "cell_type": "code",
   "execution_count": null,
   "id": "d710cc47-d373-4f66-9581-24a5dcbd82b2",
   "metadata": {},
   "outputs": [],
   "source": [
    "using LinearAlgebra\n",
    "using StaticArrays\n",
    "\n",
    "\"\"\"\n",
    "Create a dense matrix and solve Ax=b, where b is an array of ones.\n",
    "\"\"\"\n",
    "function LinearSolve( size::Int64 )\n",
    "    \n",
    "    matrix :: Matrix{Float64} = ones( size, size )\n",
    "    matrix += I # Makes it nonsingular\n",
    "    #Note that Julia knows how to interpret I as the Identity, regardless of size.\n",
    "    \n",
    "#     x :: Vector{Float64} = ones( size )\n",
    "#     b :: Vector{Float64} = matrix * ones( size ) # setup RHS so solution is ones\n",
    "    \n",
    "    return (matrix)\\ones( size )\n",
    "end\n",
    "\n",
    "# LinearSolve.py contains a function doing the same thing using np.linalg.solve()\n",
    "LinearSolve_Python = pyimport(\"LinearSolve\")"
   ]
  },
  {
   "cell_type": "code",
   "execution_count": null,
   "id": "100716ba-4164-48b6-b773-4f61d019fdbb",
   "metadata": {},
   "outputs": [],
   "source": [
    "LinearSolve(3)"
   ]
  },
  {
   "cell_type": "code",
   "execution_count": null,
   "id": "c83bcfeb-2caf-414f-8183-075596192b0a",
   "metadata": {},
   "outputs": [],
   "source": [
    "LinearSolve_Python.LinearSolve(3)"
   ]
  },
  {
   "cell_type": "code",
   "execution_count": null,
   "id": "12e10f26-b7cd-491b-9c89-a844577e137a",
   "metadata": {},
   "outputs": [],
   "source": [
    "# This takes awhile .. \n",
    "\n",
    "time_julia  = []\n",
    "time_python = []\n",
    "\n",
    "sizes = [ 4, 16, 64, 128, 256, 512, 1024, 4096, 10000 ]\n",
    "for i in 1:length(sizes)\n",
    "    tmp = @benchmark LinearSolve(sizes[$i])\n",
    "    push!(time_julia, mean(tmp.times) )\n",
    "    \n",
    "    tmp = @benchmark LinearSolve_Python.LinearSolve(sizes[$i])\n",
    "    push!(time_python, mean(tmp.times) )\n",
    "end"
   ]
  },
  {
   "cell_type": "code",
   "execution_count": null,
   "id": "8ced63e5-954a-43da-a543-a0166d654d50",
   "metadata": {},
   "outputs": [],
   "source": [
    "using PyPlot\n",
    "\n",
    "fig, ax = subplots()\n",
    "\n",
    "ax.loglog(sizes, time_julia./1e6, marker=\"x\", ls=\" \", label=\"Julia\")\n",
    "ax.loglog(sizes, time_python./1e6, marker=\"x\", ls=\" \", label=\"Python\")\n",
    "\n",
    "ax.legend(frameon=true)\n",
    "ax.set(xlabel=\"N\", ylabel=\"Mean Time [ms]\")"
   ]
  },
  {
   "cell_type": "markdown",
   "id": "17609d86-2c98-415a-8c04-af34847fa4ad",
   "metadata": {},
   "source": [
    "# Application Benchmarking\n",
    "\n",
    "So far we've only benchmarked individual operations -- the linear solver above, summations in the slides in this directory, etc.\n",
    "Most applications are more complex than just NumPy operations. \n",
    "Here we test a finite difference solver for the 1D advection equation\n",
    "$$\n",
    "\\left( \\frac{\\partial }{\\partial t} + u \\frac{\\partial }{\\partial x}\\right) f = 0. \n",
    "$$\n",
    "\n",
    "The Python implementation, found in `advection.py` uses numpy operations for setting up the initial conditions and the evolution steps.\n",
    "The Julia implementation, foudn in `advection.jl` uses for loops with bounds checking deactivated in place of the equivalent numpy functions.\n",
    "\n",
    "The implementations used are first order finite difference upwinding schemes."
   ]
  },
  {
   "cell_type": "code",
   "execution_count": null,
   "id": "c7c7bc80-8657-449f-8772-e7c7c4d42b6e",
   "metadata": {},
   "outputs": [],
   "source": [
    "py_advection = pyimport(\"advection\")\n",
    "include(\"advection.jl\")"
   ]
  },
  {
   "cell_type": "code",
   "execution_count": null,
   "id": "6f41f90a-8d13-4df2-ba41-b72a4ed2754e",
   "metadata": {},
   "outputs": [],
   "source": [
    "@benchmark Solve($128)"
   ]
  },
  {
   "cell_type": "code",
   "execution_count": null,
   "id": "076b39b2-46be-4017-bcb2-a4eb0787d6cb",
   "metadata": {},
   "outputs": [],
   "source": [
    "@benchmark py_advection.Solve($100)"
   ]
  },
  {
   "cell_type": "code",
   "execution_count": null,
   "id": "8239ac07-c3bc-4779-bad0-d515112fb38c",
   "metadata": {},
   "outputs": [],
   "source": [
    "time_julia  = []\n",
    "time_python = []\n",
    "\n",
    "sizes = [ 128, 256, 512, 1024, 2048, 4096, 8192 ]\n",
    "for i in 1:length(sizes)\n",
    "    tmp = @benchmark Solve(sizes[$i])\n",
    "    push!(time_julia, mean(tmp.times) )\n",
    "    \n",
    "    tmp = @benchmark py_advection.Solve(sizes[$i])\n",
    "    push!(time_python, mean(tmp.times) )\n",
    "end"
   ]
  },
  {
   "cell_type": "code",
   "execution_count": null,
   "id": "cc0397e1-351d-49cc-9bc3-2c9e2d9d100d",
   "metadata": {},
   "outputs": [],
   "source": [
    "using PyPlot\n",
    "\n",
    "fig, ax = subplots()\n",
    "\n",
    "ax.loglog(sizes, time_julia./1e6, marker=\"x\", ls=\" \", label=\"Julia\")\n",
    "ax.loglog(sizes, time_python./1e6, marker=\"x\", ls=\" \", label=\"Python\")\n",
    "ax.set(xlim=[1e2,1e4])\n",
    "\n",
    "ax.legend(frameon=true)\n",
    "ax.set(xlabel=\"N\", ylabel=\"Mean Time [ms]\")"
   ]
  },
  {
   "cell_type": "code",
   "execution_count": null,
   "id": "83d40735-bf42-4cf8-a8d2-76606fde22fb",
   "metadata": {},
   "outputs": [],
   "source": [
    "# try with numba\n",
    "\n",
    "# externally done and copied. should've written to file and read in but .. *shrugs*\n",
    "time_numba = [ 5.438017845153808e-05,0.00014248418807983397,0.0004354686737060547,0.0014885380268096925,0.005724998235702515,0.026125758171081544,0.09832416653633118 ]\n",
    "\n",
    "using PyPlot\n",
    "\n",
    "fig, ax = subplots()\n",
    "\n",
    "ax.loglog(sizes, time_julia./1e6, marker=\"x\", ls=\" \", label=\"Julia\")\n",
    "ax.loglog(sizes, time_python./1e6, marker=\"x\", ls=\" \", label=\"Python\")\n",
    "ax.loglog(sizes, time_numba.*1e3, marker=\"x\", ls=\" \", label=\"Numba\")\n",
    "ax.set(xlim=[1e2,1e4])\n",
    "\n",
    "ax.legend(frameon=true)\n",
    "ax.set(xlabel=\"N\", ylabel=\"Mean Time [ms]\")"
   ]
  },
  {
   "cell_type": "code",
   "execution_count": null,
   "id": "47b16dd5-edcc-4f17-9dc7-177c1a76f3ed",
   "metadata": {},
   "outputs": [],
   "source": []
  }
 ],
 "metadata": {
  "kernelspec": {
   "display_name": "Julia 1.6.1",
   "language": "julia",
   "name": "julia-1.6"
  },
  "language_info": {
   "file_extension": ".jl",
   "mimetype": "application/julia",
   "name": "julia",
   "version": "1.6.1"
  }
 },
 "nbformat": 4,
 "nbformat_minor": 5
}
